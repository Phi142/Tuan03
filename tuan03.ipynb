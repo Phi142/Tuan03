{
  "nbformat": 4,
  "nbformat_minor": 0,
  "metadata": {
    "colab": {
      "provenance": [],
      "toc_visible": true,
      "authorship_tag": "ABX9TyNE0ucZWBqafUErA9F1Plyj",
      "include_colab_link": true
    },
    "kernelspec": {
      "name": "python3",
      "display_name": "Python 3"
    },
    "language_info": {
      "name": "python"
    }
  },
  "cells": [
    {
      "cell_type": "markdown",
      "metadata": {
        "id": "view-in-github",
        "colab_type": "text"
      },
      "source": [
        "<a href=\"https://colab.research.google.com/github/Phi142/Tuan03/blob/main/tuan03.ipynb\" target=\"_parent\"><img src=\"https://colab.research.google.com/assets/colab-badge.svg\" alt=\"Open In Colab\"/></a>"
      ]
    },
    {
      "cell_type": "code",
      "source": [
        "import numpy as np\n",
        "import skfuzzy as fuzz\n",
        "import matplotlib.pyplot as plit\n",
        "\n",
        "x = np.arange(50,81,1)\n",
        "slow = fuzz.trimf(x,[50,50,60])\n",
        "plit.figure()\n",
        "plit.plot(x,slow, 'r', linewidth = 5, label = 'slow')"
      ],
      "metadata": {
        "id": "EjcC5p1ttb2p"
      },
      "execution_count": null,
      "outputs": []
    },
    {
      "cell_type": "code",
      "source": [
        "import numpy as np\n",
        "import skfuzzy as fuzz\n",
        "from skfuzzy import control as ctrl\n",
        "import matplotlib.pyplot as plt\n",
        "\n",
        "food=ctrl.Antecedent(np.arange(0,11,1),'food')\n",
        "service=ctrl.Antecedent(np.arange(0,11,1),'service')\n",
        "tip=ctrl.Consequent(np.arange(10,31,1),'tip')\n",
        "\n",
        "food['poor']=fuzz.trimf(food.universe,[0,0,5])\n",
        "food['average']=fuzz.trimf(food.universe,[0,5,10])\n",
        "food['good']=fuzz.trimf(food.universe,[5,10,10])\n",
        "\n",
        "service['poor']=fuzz.trimf(service.universe,[0,0,5])\n",
        "service['average']=fuzz.trimf(service.universe,[0,5,10])\n",
        "service['good']=fuzz.trimf(service.universe,[5,10,10])\n",
        "\n",
        "tip['less']=fuzz.trimf(tip.universe,[10,10,20])\n",
        "tip['medium']=fuzz.trimf(tip.universe,[10,20,30])\n",
        "tip['much']=fuzz.trimf(tip.universe,[20,30,30])\n",
        "\n",
        "food.view()\n",
        "service.view()\n",
        "tip.view()\n",
        "service['average'].view()\n",
        "\n",
        "rule1=ctrl.Rule(food['poor']&service['poor'], tip['less'])\n",
        "rule2=ctrl.Rule(food['poor']&service['average'], tip['less'])\n",
        "rule3=ctrl.Rule(food['poor']&service['good'], tip['medium'])\n",
        "rule4=ctrl.Rule(food['average']&service['poor'], tip['less'])\n",
        "rule5=ctrl.Rule(food['average']&service['average'], tip['medium'])\n",
        "rule6=ctrl.Rule(food['average']&service['good'], tip['much'])\n",
        "rule7=ctrl.Rule(food['good']&service['poor'], tip['medium'])\n",
        "rule8=ctrl.Rule(food['good']&service['average'], tip['much'])\n",
        "rule9=ctrl.Rule(food['good']&service['good'], tip['much'])\n",
        "\n",
        "tipping_ctrl = ctrl.ControlSystem([rule1,rule2,rule3,rule4,rule5,rule6,rule7,rule8,rule9])\n",
        "tipping=ctrl.ControlSystemSimulation(tipping_ctrl)\n",
        "tipping.input['food']=1\n",
        "tipping.input['service']=1\n",
        "tipping.compute()\n",
        "print(tipping.output['tip'])\n",
        "tip.view(sim=tipping)"
      ],
      "metadata": {
        "id": "V2D_d4Yqk3NB"
      },
      "execution_count": null,
      "outputs": []
    },
    {
      "cell_type": "code",
      "execution_count": null,
      "metadata": {
        "id": "mtfM-WGfj7S2"
      },
      "outputs": [],
      "source": [
        "import numpy as np\n",
        "import skfuzzy as fuzz\n",
        "from skfuzzy import control as ctrl\n",
        "import matplotlib.pyplot as plt\n",
        "\n",
        "time = ctrl.Antecedent(np.arange(10,300,20),'time')\n",
        "rice = ctrl.Antecedent(np.arange(0.1, 2, 0.3),'rice')\n",
        "power = ctrl.Consequent(np.arange(0,100,1),'power')\n",
        "\n",
        "time['super fast'] = fuzz.trimf(time.universe,[10,10,15])\n",
        "time['fast'] = fuzz.trimf(time.universe,[15,30,50])\n",
        "time['average'] = fuzz.trimf(time.universe,[30,50,90])\n",
        "time['slow'] = fuzz.trimf(time.universe,[50,70,150])\n",
        "time['super slow'] = fuzz.trimf(time.universe,[130,160,250])\n",
        "\n",
        "rice['rat it'] = fuzz.trimf(rice.universe,[0.1,0.1,0.3])\n",
        "rice['it'] = fuzz.trimf(rice.universe,[0.2,0.4,0.7])\n",
        "rice['vua'] = fuzz.trimf(rice.universe,[0.4,0.6,0.9])\n",
        "rice['nhieu'] = fuzz.trimf(rice.universe,[0.8,1.1,1.5])\n",
        "rice['rat nhieu'] = fuzz.trimf(rice.universe,[1.3,1.6,2])\n",
        "\n",
        "power['maximum low'] = fuzz.trimf(power.universe,[0,10,25])\n",
        "power['low'] = fuzz.trimf(power.universe,[15,27,40])\n",
        "power['medium'] = fuzz.trimf(power.universe,[45,50,70])\n",
        "power['high'] = fuzz.trimf(power.universe,[65,75,80])\n",
        "power['extremely high'] = fuzz.trimf(power.universe,[75,85,100])\n",
        "\n",
        "time.view()\n",
        "rice.view()\n",
        "power.view()\n",
        "\n",
        "rule1 = ctrl.Rule(time['super fast']&rice['rat it'], power['medium'])\n",
        "rule2 = ctrl.Rule(time['super fast']&rice['it'], power['medium'])\n",
        "rule3 = ctrl.Rule(time['super fast']&rice['vua'], power['high'])\n",
        "rule4 = ctrl.Rule(time['super fast']&rice['nhieu'], power['high'])\n",
        "rule5 = ctrl.Rule(time['super fast']&rice['rat nhieu'], power['extremely high'])\n",
        "rule6 = ctrl.Rule(time['fast']&rice['rat it'], power['medium'])\n",
        "rule7 = ctrl.Rule(time['fast']&rice['it'], power['medium'])\n",
        "rule8 = ctrl.Rule(time['fast']&rice['vua'], power['high'])\n",
        "rule9 = ctrl.Rule(time['fast']&rice['nhieu'], power['high'])\n",
        "rule10 = ctrl.Rule(time['fast']&rice['rat nhieu'], power['extremely high'])\n",
        "rule11 = ctrl.Rule(time['average']&rice['rat it'], power['low'])\n",
        "rule12 = ctrl.Rule(time['average']&rice['it'], power['low'])\n",
        "rule13 = ctrl.Rule(time['average']&rice['vua'], power['medium'])\n",
        "rule14 = ctrl.Rule(time['average']&rice['nhieu'], power['medium'])\n",
        "rule15 = ctrl.Rule(time['average']&rice['rat nhieu'], power['high'])\n",
        "rule16 = ctrl.Rule(time['slow']&rice['rat it'], power['maximum low'])\n",
        "rule17 = ctrl.Rule(time['slow']&rice['it'], power['maximum low'])\n",
        "rule18 = ctrl.Rule(time['slow']&rice['vua'], power['low'])\n",
        "rule19 = ctrl.Rule(time['slow']&rice['nhieu'], power['medium'])\n",
        "rule20 = ctrl.Rule(time['slow']&rice['rat nhieu'], power['medium'])\n",
        "rule21 = ctrl.Rule(time['super slow']&rice['rat it'], power['maximum low'])\n",
        "rule22 = ctrl.Rule(time['super slow']&rice['it'], power['maximum low'])\n",
        "rule23 = ctrl.Rule(time['super slow']&rice['vua'], power['low'])\n",
        "rule24 = ctrl.Rule(time['super slow']&rice['nhieu'], power['low'])\n",
        "rule25 = ctrl.Rule(time['super slow']&rice['rat nhieu'], power['medium'])\n",
        "\n",
        "powering_ctrl = ctrl.ControlSystem([rule1,rule2,rule3,rule4,rule5,rule6,rule7,rule8,rule9,rule10,rule11,rule12,rule13,rule14,rule15,rule16,rule17,rule18,rule19,rule20,rule21,rule22,rule23,rule24,rule25])\n",
        "powering = ctrl.ControlSystemSimulation(tipping_ctrl)\n",
        "powering.input['time']==1\n",
        "powering.input['rice']==1\n",
        "powering.compute()\n",
        "print(powering.output['power'])\n",
        "power.view(sim=powering)"
      ]
    },
    {
      "cell_type": "code",
      "source": [],
      "metadata": {
        "id": "mPGfpYP0t5gC"
      },
      "execution_count": null,
      "outputs": []
    }
  ]
}